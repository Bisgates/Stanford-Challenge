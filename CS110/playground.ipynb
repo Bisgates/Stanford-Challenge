{
 "cells": [
  {
   "cell_type": "code",
   "execution_count": 1,
   "metadata": {},
   "outputs": [],
   "source": [
    "#include <vector>\n",
    "\n",
    "using namespace std;"
   ]
  },
  {
   "cell_type": "code",
   "execution_count": 2,
   "metadata": {},
   "outputs": [],
   "source": [
    "vector<int> a={1,2,3};"
   ]
  },
  {
   "cell_type": "code",
   "execution_count": 3,
   "metadata": {},
   "outputs": [],
   "source": [
    "void modifyVec(vector<int> &vec, std::function<int(int v)>op){\n",
    "    for (int &v : vec){\n",
    "        v = op(v);\n",
    "    }\n",
    "}"
   ]
  },
  {
   "cell_type": "code",
   "execution_count": 9,
   "metadata": {},
   "outputs": [
    {
     "name": "stderr",
     "output_type": "stream",
     "text": [
      "\u001b[1minput_line_19:2:16: \u001b[0m\u001b[0;1;31merror: \u001b[0m\u001b[1m'val' cannot be captured because it does not have automatic storage duration\u001b[0m\n",
      " modifyVec(a, [val](int x){ return x + val; })\n",
      "\u001b[0;1;32m               ^\n",
      "\u001b[0m\u001b[1minput_line_11:2:6: \u001b[0m\u001b[0;1;30mnote: \u001b[0m'val' declared here\u001b[0m\n",
      " int val = 4;\n",
      "\u001b[0;1;32m     ^\n",
      "\u001b[0m"
     ]
    },
    {
     "ename": "Interpreter Error",
     "evalue": "",
     "output_type": "error",
     "traceback": [
      "Interpreter Error: "
     ]
    }
   ],
   "source": [
    "int val = 5;\n",
    "modifyVec(a, [val](int x){ return x + val; })"
   ]
  },
  {
   "cell_type": "code",
   "execution_count": 5,
   "metadata": {},
   "outputs": [
    {
     "data": {
      "text/plain": [
       "{ 5, 6, 7 }"
      ]
     },
     "execution_count": 5,
     "metadata": {},
     "output_type": "execute_result"
    }
   ],
   "source": [
    "a"
   ]
  },
  {
   "cell_type": "markdown",
   "metadata": {},
   "source": [
    "## tee"
   ]
  },
  {
   "cell_type": "code",
   "execution_count": 11,
   "metadata": {},
   "outputs": [],
   "source": [
    "#define DEFAULT_FLAGS (O_WRONLY | O_CREAT | O_TRUNC)\n",
    "#define DEFAULT_PERMISSIONS 0644"
   ]
  },
  {
   "cell_type": "code",
   "execution_count": null,
   "metadata": {},
   "outputs": [],
   "source": [
    "static void writeall(int fd, const char buffer[], size_t len){\n",
    "    size_t numWritten = 0;\n",
    "    while (numWritten < len){\n",
    "        numWritten += write(fd, buffer + numWritten, len- numWritten);\n",
    "    }\n",
    "}"
   ]
  },
  {
   "cell_type": "code",
   "execution_count": null,
   "metadata": {},
   "outputs": [],
   "source": [
    "int main(int argc, char *argv[]){\n",
    "    int fds[argc];\n",
    "    fds[0] = STDOUT_FILENO;\n",
    "    for (size_t i = 1; i < argc; i++){\n",
    "        fds[i] = open(argv[i], DEFAULT_FLAGS, DEFAULT_PERMISSIONS);\n",
    "    }\n",
    "    char buffer[1024];\n",
    "    while (true){\n",
    "        ssize_t numRead = read(STDOUT_FILENO, buffer, sizeof(buffer));\n",
    "        if (numRead == 0) break;\n",
    "        for (size_t i = 0; i < argc; i++) \n",
    "            writeall(fds[i], buffer, numRead);\n",
    "    }\n",
    "    for (size_t i = 0; i < argc; i++) \n",
    "        close(fds[i]);\n",
    "        \n",
    "    return 0;\n",
    "}"
   ]
  },
  {
   "cell_type": "markdown",
   "metadata": {},
   "source": [
    "## find"
   ]
  },
  {
   "cell_type": "code",
   "execution_count": null,
   "metadata": {},
   "outputs": [],
   "source": []
  },
  {
   "cell_type": "code",
   "execution_count": null,
   "metadata": {},
   "outputs": [],
   "source": []
  },
  {
   "cell_type": "code",
   "execution_count": null,
   "metadata": {},
   "outputs": [],
   "source": []
  },
  {
   "cell_type": "code",
   "execution_count": null,
   "metadata": {},
   "outputs": [],
   "source": []
  },
  {
   "cell_type": "code",
   "execution_count": null,
   "metadata": {},
   "outputs": [],
   "source": []
  },
  {
   "cell_type": "code",
   "execution_count": null,
   "metadata": {},
   "outputs": [],
   "source": []
  },
  {
   "cell_type": "code",
   "execution_count": null,
   "metadata": {},
   "outputs": [],
   "source": []
  },
  {
   "cell_type": "code",
   "execution_count": null,
   "metadata": {},
   "outputs": [],
   "source": []
  },
  {
   "cell_type": "code",
   "execution_count": null,
   "metadata": {},
   "outputs": [],
   "source": []
  },
  {
   "cell_type": "code",
   "execution_count": null,
   "metadata": {},
   "outputs": [],
   "source": []
  },
  {
   "cell_type": "code",
   "execution_count": null,
   "metadata": {},
   "outputs": [],
   "source": []
  },
  {
   "cell_type": "code",
   "execution_count": null,
   "metadata": {},
   "outputs": [],
   "source": []
  },
  {
   "cell_type": "code",
   "execution_count": null,
   "metadata": {},
   "outputs": [],
   "source": []
  }
 ],
 "metadata": {
  "kernelspec": {
   "display_name": "C++11",
   "language": "C++11",
   "name": "xcpp11"
  },
  "language_info": {
   "codemirror_mode": "text/x-c++src",
   "file_extension": ".cpp",
   "mimetype": "text/x-c++src",
   "name": "c++",
   "version": "11"
  }
 },
 "nbformat": 4,
 "nbformat_minor": 2
}
